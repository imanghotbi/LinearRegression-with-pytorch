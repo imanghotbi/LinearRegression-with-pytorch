{
  "cells": [
    {
      "cell_type": "code",
      "execution_count": null,
      "metadata": {
        "id": "ibfqhNz2PoTw"
      },
      "outputs": [],
      "source": [
        "import torch\n",
        "import torch.nn as nn\n",
        "import numpy as np\n",
        "import matplotlib.pyplot as plt "
      ]
    },
    {
      "cell_type": "code",
      "execution_count": null,
      "metadata": {
        "colab": {
          "base_uri": "https://localhost:8080/",
          "height": 282
        },
        "id": "UXdmcG0IP-K4",
        "outputId": "f4bb583c-e96b-47ff-c896-224c59c1f7e8"
      },
      "outputs": [
        {
          "data": {
            "text/plain": [
              "array([71.16533506])"
            ]
          },
          "execution_count": 8,
          "metadata": {},
          "output_type": "execute_result"
        },
        {
          "data": {
            "image/png": "[encoded data removed]",
            "text/plain": [
              "<Figure size 432x288 with 1 Axes>"
            ]
          },
          "metadata": {},
          "output_type": "display_data"
        }
      ],
      "source": [
        "np.random.seed(101)\n",
        "N=20\n",
        "X=np.random.random(N)*10 -5 \n",
        "Y=0.5 * X - 1 + np.random.randn(N)\n",
        "plt.scatter(X,Y)\n",
        "np.correlate(X,Y)\n"
      ]
    },
    {
      "cell_type": "code",
      "execution_count": null,
      "metadata": {
        "id": "GazV8V2nQHA5"
      },
      "outputs": [],
      "source": [
        "# create the model\n",
        "model = nn.Linear(1,1)"
      ]
    },
    {
      "cell_type": "code",
      "execution_count": null,
      "metadata": {
        "colab": {
          "base_uri": "https://localhost:8080/"
        },
        "id": "GqjjYNdkWe8J",
        "outputId": "4d6dbc14-d2c5-48eb-ab31-59cc3ad50591"
      },
      "outputs": [
        {
          "data": {
            "text/plain": [
              "torch.Tensor"
            ]
          },
          "execution_count": 10,
          "metadata": {},
          "output_type": "execute_result"
        }
      ],
      "source": [
        "# loss function and optimizer\n",
        "loss=nn.MSELoss()\n",
        "optimizer = torch.optim.SGD(model.parameters(),lr=0.1)\n",
        "# Reshape for (N,D=1) for train model\n",
        "X=X.reshape(N,1)\n",
        "Y=Y.reshape(N,1)\n",
        "# torch use np.float 32 and torch tensor by defualt\n",
        "pyTorchX=torch.from_numpy(X.astype(np.float32))\n",
        "pyTorchY=torch.from_numpy(Y.astype(np.float32))\n",
        "\n",
        "type(pyTorchX)"
      ]
    },
    {
      "cell_type": "code",
      "execution_count": null,
      "metadata": {
        "colab": {
          "base_uri": "https://localhost:8080/"
        },
        "id": "yzYZtuZeW1-A",
        "outputId": "7ce9cfbd-0d51-4c09-8138-6812fa99075e"
      },
      "outputs": [
        {
          "name": "stdout",
          "output_type": "stream",
          "text": [
            "Epochs: 1/30 , Loss: 3.507328748703003\n",
            "Epochs: 2/30 , Loss: 2.5650086402893066\n",
            "Epochs: 3/30 , Loss: 1.9829368591308594\n",
            "Epochs: 4/30 , Loss: 1.6177482604980469\n",
            "Epochs: 5/30 , Loss: 1.3865084648132324\n",
            "Epochs: 6/30 , Loss: 1.239300012588501\n",
            "Epochs: 7/30 , Loss: 1.145297884941101\n",
            "Epochs: 8/30 , Loss: 1.0851666927337646\n",
            "Epochs: 9/30 , Loss: 1.0466631650924683\n",
            "Epochs: 10/30 , Loss: 1.0219948291778564\n",
            "Epochs: 11/30 , Loss: 1.0061852931976318\n",
            "Epochs: 12/30 , Loss: 0.9960511922836304\n",
            "Epochs: 13/30 , Loss: 0.9895545840263367\n",
            "Epochs: 14/30 , Loss: 0.9853897094726562\n",
            "Epochs: 15/30 , Loss: 0.9827194213867188\n",
            "Epochs: 16/30 , Loss: 0.9810073971748352\n",
            "Epochs: 17/30 , Loss: 0.9799095988273621\n",
            "Epochs: 18/30 , Loss: 0.9792059659957886\n",
            "Epochs: 19/30 , Loss: 0.9787546992301941\n",
            "Epochs: 20/30 , Loss: 0.9784654378890991\n",
            "Epochs: 21/30 , Loss: 0.9782799482345581\n",
            "Epochs: 22/30 , Loss: 0.9781610369682312\n",
            "Epochs: 23/30 , Loss: 0.9780848622322083\n",
            "Epochs: 24/30 , Loss: 0.9780359268188477\n",
            "Epochs: 25/30 , Loss: 0.9780047535896301\n",
            "Epochs: 26/30 , Loss: 0.9779845476150513\n",
            "Epochs: 27/30 , Loss: 0.9779717326164246\n",
            "Epochs: 28/30 , Loss: 0.9779633283615112\n",
            "Epochs: 29/30 , Loss: 0.9779580235481262\n",
            "Epochs: 30/30 , Loss: 0.9779545664787292\n"
          ]
        }
      ],
      "source": [
        " #Train the model \n",
        "n_epochs=30\n",
        "losses = []\n",
        "for i in range(n_epochs):\n",
        "   model.train()\n",
        "   #zero the parameter gradients for not accumulate\n",
        "   optimizer.zero_grad()\n",
        "   #forward pass \n",
        "   outputs=model(pyTorchX)\n",
        "   error=loss(outputs,pyTorchY)\n",
        "   losses.append(error.item())\n",
        "   #backward \n",
        "   error.backward()\n",
        "   optimizer.step()\n",
        "\n",
        "   print(f'Epochs: {i+1}/{n_epochs} , Loss: {error.item()}')\n"
      ]
    },
    {
      "cell_type": "code",
      "execution_count": null,
      "metadata": {
        "colab": {
          "base_uri": "https://localhost:8080/",
          "height": 282
        },
        "id": "lwD1EbQqdfa7",
        "outputId": "d615af7f-2326-43bb-8eee-0ad2b0c33055"
      },
      "outputs": [
        {
          "data": {
            "text/plain": [
              "[<matplotlib.lines.Line2D at 0x7efc2fbdf910>]"
            ]
          },
          "execution_count": 12,
          "metadata": {},
          "output_type": "execute_result"
        },
        {
          "data": {
            "image/png": "[encoded data removed]",
            "text/plain": [
              "<Figure size 432x288 with 1 Axes>"
            ]
          },
          "metadata": {},
          "output_type": "display_data"
        }
      ],
      "source": [
        "plt.plot(range(1,n_epochs+1),losses)"
      ]
    },
    {
      "cell_type": "code",
      "execution_count": null,
      "metadata": {
        "colab": {
          "base_uri": "https://localhost:8080/",
          "height": 265
        },
        "id": "EOD_Uppzj04y",
        "outputId": "2090503c-56c9-4008-b138-7ac795404d47"
      },
      "outputs": [
        {
          "data": {
            "image/png": "[encoded data removed]",
            "text/plain": [
              "<Figure size 432x288 with 1 Axes>"
            ]
          },
          "metadata": {},
          "output_type": "display_data"
        }
      ],
      "source": [
        "predicted = model(pyTorchX).detach().numpy()\n",
        "plt.plot(X,predicted,label=\"Regression\")\n",
        "plt.scatter(X,Y,label=\"orgin\")\n",
        "plt.legend()\n",
        "plt.show()"
      ]
    },
    {
      "cell_type": "code",
      "execution_count": null,
      "metadata": {
        "colab": {
          "base_uri": "https://localhost:8080/"
        },
        "id": "xW8xWGeXkNx4",
        "outputId": "92aa4edb-59d4-46d8-984e-543d5ed5e2a9"
      },
      "outputs": [
        {
          "name": "stdout",
          "output_type": "stream",
          "text": [
            "[[0.4297138]] [-0.74236685]\n"
          ]
        }
      ],
      "source": [
        "# for retrive paramter\n",
        "weight=model.weight.data.numpy()\n",
        "bias = model.bias.data.numpy()\n",
        "# an other way\n",
        "# weight=model.weight.item()\n",
        "# bias = model.bias.item()\n",
        "print(weight,bias)"
      ]
    },
    {
      "cell_type": "code",
      "execution_count": null,
      "metadata": {
        "colab": {
          "base_uri": "https://localhost:8080/"
        },
        "id": "ddrgG8PYmwHT",
        "outputId": "821613fc-7093-43f3-ea6d-18bb78eff6b1"
      },
      "outputs": [
        {
          "name": "stdout",
          "output_type": "stream",
          "text": [
            "0.42971378564834595\n",
            "-0.7423668503761292\n"
          ]
        }
      ],
      "source": [
        "for i in model.parameters():\n",
        "  print(i.item())"
      ]
    },
    {
      "cell_type": "code",
      "execution_count": null,
      "metadata": {
        "id": "B2o_Kd31c5Jy"
      },
      "outputs": [],
      "source": []
    },
    {
      "cell_type": "markdown",
      "metadata": {
        "id": "r2ty9JbYCzq3"
      },
      "source": [
        "# PyTorch Regression"
      ]
    },
    {
      "cell_type": "code",
      "execution_count": null,
      "metadata": {
        "id": "vxAIZMhySh2s"
      },
      "outputs": [],
      "source": [
        "import torch\n",
        "import torch.nn as nn\n",
        "import numpy as np\n",
        "import matplotlib.pyplot as plt\n",
        "from mpl_toolkits.mplot3d import Axes3D\n"
      ]
    },
    {
      "cell_type": "code",
      "execution_count": null,
      "metadata": {
        "id": "4nq1WXISS1sB"
      },
      "outputs": [],
      "source": [
        "# make dataset\n",
        "torch.manual_seed(42)\n",
        "N=1000\n",
        "X=np.random.random((N,2))*6 - 3 \n",
        "y=np.cos(2*X[:,0]) + np.cos(3*X[:,1])\n",
        "X\n"
      ]
    },
    {
      "cell_type": "code",
      "execution_count": null,
      "metadata": {
        "id": "LnVsGGhWTI6Y"
      },
      "outputs": [],
      "source": [
        "fig = plt.figure()\n",
        "ax = fig.add_subplot(111,projection='3d')\n",
        "ax.scatter(X[:,0],X[:,1],y);"
      ]
    },
    {
      "cell_type": "code",
      "execution_count": null,
      "metadata": {
        "id": "mQxFFtDLTuXQ"
      },
      "outputs": [],
      "source": [
        "model=nn.Sequential(\n",
        "    nn.Linear(2,100),\n",
        "    nn.ReLU(),\n",
        "    nn.Linear(100,1)\n",
        ")"
      ]
    },
    {
      "cell_type": "code",
      "execution_count": null,
      "metadata": {
        "id": "vyw1zGVdUfeu"
      },
      "outputs": [],
      "source": [
        "loss_fn = nn.MSELoss()\n",
        "optimizer = torch.optim.Adam(model.parameters(),lr=0.01)"
      ]
    },
    {
      "cell_type": "code",
      "execution_count": null,
      "metadata": {
        "id": "rtppV0g0VXuc"
      },
      "outputs": [],
      "source": [
        "X_train = torch.from_numpy(X.astype(np.float32))\n",
        "y_train = torch.from_numpy(y.astype(np.float32)).reshape(-1,1)"
      ]
    },
    {
      "cell_type": "code",
      "execution_count": null,
      "metadata": {
        "id": "9U0IIjzRUzbd"
      },
      "outputs": [],
      "source": [
        "#An epoch is one Loop through the data ...\n",
        "n_epochs =500 #HyperParameters \n",
        "Train_loss=[]\n",
        "# 0. Loop through the data\n",
        "for epoch in range(n_epochs):\n",
        "  # set the model to training mode\n",
        "  model.train() # set paramter to require gradient\n",
        "  # 1. forward pass\n",
        "  y_pred=model(X_train)\n",
        "  # 2. Calculate Loss\n",
        "  Loss=loss_fn(y_pred,y_train)\n",
        "  Train_loss.append(Loss.item())\n",
        "  # 3. Optimizer zero grad\n",
        "  optimizer.zero_grad()\n",
        "  # 4.perform backpropagation on the loss \n",
        "  Loss.backward()\n",
        "  # 5.Step the optimizer \n",
        "  optimizer.step()\n",
        "  if epoch % 100 ==0:\n",
        "    print(f'Epoch:{epoch} | train loss:{Loss}') "
      ]
    },
    {
      "cell_type": "code",
      "execution_count": null,
      "metadata": {
        "id": "FqsVMGAIWGJZ"
      },
      "outputs": [],
      "source": [
        "plt.plot(Train_loss)"
      ]
    },
    {
      "cell_type": "code",
      "execution_count": null,
      "metadata": {
        "id": "T9reS7gkXPi0"
      },
      "outputs": [],
      "source": [
        "??torchvision.datasets.MNIST"
      ]
    }
  ],
  "metadata": {
    "colab": {
      "provenance": []
    },
    "kernelspec": {
      "display_name": "Python 3",
      "name": "python3"
    },
    "language_info": {
      "name": "python"
    }
  },
  "nbformat": 4,
  "nbformat_minor": 0
}
